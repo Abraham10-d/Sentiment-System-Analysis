{
 "cells": [
  {
   "cell_type": "code",
   "execution_count": 2,
   "id": "61c163b1",
   "metadata": {},
   "outputs": [
    {
     "name": "stderr",
     "output_type": "stream",
     "text": [
      "[nltk_data] Downloading package vader_lexicon to\n",
      "[nltk_data]     C:\\Users\\abrah\\AppData\\Roaming\\nltk_data...\n",
      "[nltk_data]   Package vader_lexicon is already up-to-date!\n"
     ]
    },
    {
     "data": {
      "text/plain": [
       "True"
      ]
     },
     "execution_count": 2,
     "metadata": {},
     "output_type": "execute_result"
    }
   ],
   "source": [
    "# Import necessary libraries\n",
    "# Download \"vader_lexicon\" for sentiment analysis\n",
    "import nltk\n",
    "nltk.download('vader_lexicon')"
   ]
  },
  {
   "cell_type": "code",
   "execution_count": 3,
   "id": "23b42a7c",
   "metadata": {},
   "outputs": [],
   "source": [
    "# Import necessary libraries\n",
    "from nltk.sentiment.vader import SentimentIntensityAnalyzer\n",
    "\n",
    "# Variable \"analyzer\" is assigned SentimentIntensityAnalyzer class\n",
    "analyzer = SentimentIntensityAnalyzer()"
   ]
  },
  {
   "cell_type": "code",
   "execution_count": 4,
   "id": "5039a9cb",
   "metadata": {},
   "outputs": [
    {
     "name": "stdout",
     "output_type": "stream",
     "text": [
      "                                           Answer 13  Sentiment  \\\n",
      "0  Confusing assignment, learned about integratio...    -0.2617   \n",
      "1      Learned how librarians make item associations     0.0000   \n",
      "2    Thought I was making new tags, but many existed     0.0000   \n",
      "3     Initially confusing, easier after help session     0.5574   \n",
      "4  Moving items removed previous associations; sh...     0.0000   \n",
      "\n",
      "  Sentiment_Analysis  \n",
      "0           Negative  \n",
      "1            Neutral  \n",
      "2            Neutral  \n",
      "3           Positive  \n",
      "4            Neutral  \n"
     ]
    }
   ],
   "source": [
    "# Import necessary libraries\n",
    "import pandas as pd\n",
    "\n",
    "# Load your dataset\n",
    "additional_c = pd.read_excel(r\"C:\\Users\\abrah\\OneDrive\\Desktop\\Semester 3\\Decision Support Systems\\Smart Tagging System Analysis\\Data\\CleanedPostSurvey4AdditionalComments.xlsx\")\n",
    "\n",
    "\n",
    "# Apply sentiment analysis\n",
    "additional_c['Sentiment'] = additional_c['Answer 13'].apply(lambda x: analyzer.polarity_scores(x)['compound'])\n",
    "\n",
    "# Classify sentiment\n",
    "additional_c['Sentiment_Analysis'] = additional_c['Sentiment'].apply(lambda x: 'Positive' if x > 0 else ('Negative' if x < 0 else 'Neutral'))\n",
    "\n",
    "print(additional_c.head())"
   ]
  },
  {
   "cell_type": "code",
   "execution_count": 7,
   "id": "3e46e7cf",
   "metadata": {},
   "outputs": [
    {
     "data": {
      "image/png": "[encoded data removed]",
      "text/plain": [
       "<Figure size 640x480 with 1 Axes>"
      ]
     },
     "metadata": {},
     "output_type": "display_data"
    }
   ],
   "source": [
    "# Import necessary libraries\n",
    "import seaborn as sns\n",
    "import matplotlib.pyplot as plt\n",
    "\n",
    "# Plot the bar chart\n",
    "ax = sns.countplot(x='Sentiment_Analysis', data=additional_c)\n",
    "plt.title('Any additional comments regarding the assignment or the system')\n",
    "\n",
    "# Add labels to the bars\n",
    "# Loop through each bar in the chart\n",
    "for bar in ax.patches:\n",
    "    \n",
    "    # Get the height of the bar (value/count)\n",
    "    bar_height = bar.get_height()\n",
    "    \n",
    "    # Calculate the x and y positions for the label\n",
    "    x_pos = bar.get_x() + bar.get_width() / 2    # Center the label horizontally\n",
    "    y_pos = bar_height                           # Place the label right at the top of the bar\n",
    "    \n",
    "    # Add the label to the bar\n",
    "    ax.text(x_pos, y_pos, str(bar_height), ha='center', va='bottom', fontsize=10)\n",
    "\n",
    "ax.set_xlabel('Sentiment Analysis')\n",
    "ax.set_ylabel('')\n",
    "\n",
    "plt.show()"
   ]
  }
 ],
 "metadata": {
  "kernelspec": {
   "display_name": "Python 3",
   "language": "python",
   "name": "python3"
  },
  "language_info": {
   "codemirror_mode": {
    "name": "ipython",
    "version": 3
   },
   "file_extension": ".py",
   "mimetype": "text/x-python",
   "name": "python",
   "nbconvert_exporter": "python",
   "pygments_lexer": "ipython3",
   "version": "3.13.1"
  }
 },
 "nbformat": 4,
 "nbformat_minor": 5
}
